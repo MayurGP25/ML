{
 "cells": [
  {
   "cell_type": "markdown",
   "id": "bce18e9c",
   "metadata": {},
   "source": [
    "### Importing all the required libraries"
   ]
  },
  {
   "cell_type": "code",
   "execution_count": 1,
   "id": "96cf1cec",
   "metadata": {},
   "outputs": [],
   "source": [
    "import torch\n",
    "import torchvision\n",
    "import torchvision.transforms as transforms\n",
    "import torch.optim as optim\n",
    "import torch.nn as nn\n",
    "import torch.nn.functional as F #\n",
    "import matplotlib.pyplot as plt\n",
    "import numpy as np"
   ]
  },
  {
   "cell_type": "markdown",
   "id": "68ae9d02",
   "metadata": {},
   "source": [
    "### Set the device to run our model to CPU. If CUDA is available we can use GPU"
   ]
  },
  {
   "cell_type": "code",
   "execution_count": null,
   "id": "aa1c8ee2",
   "metadata": {},
   "outputs": [],
   "source": [
    "device='cpu'"
   ]
  },
  {
   "cell_type": "markdown",
   "id": "f977787b",
   "metadata": {},
   "source": [
    "### Transformers to convert the images to the required format required by the CNN."
   ]
  },
  {
   "cell_type": "code",
   "execution_count": null,
   "id": "ce8ac1a3",
   "metadata": {},
   "outputs": [],
   "source": [
    "transform=transforms.Compose([transforms.ToTensor(),transforms.Normalize((0.5,), (0.5,))])"
   ]
  },
  {
   "cell_type": "markdown",
   "id": "4622348d",
   "metadata": {},
   "source": [
    "### Specify the train and test dataset from the MNIST dataset"
   ]
  },
  {
   "cell_type": "code",
   "execution_count": null,
   "id": "87c72ea1",
   "metadata": {},
   "outputs": [],
   "source": [
    "trainset=torchvision.datasets.MNIST(\"mnist\",train=True,download=True,transform=transform)\n",
    "\n",
    "testset=torchvision.datasets.MNIST(\"mnist\",train=False,download=True,transform=transform)\n",
    "\n",
    "print(trainset.data.shape)\n",
    "print(testset.data.shape)"
   ]
  },
  {
   "cell_type": "markdown",
   "id": "15209050",
   "metadata": {},
   "source": [
    "### Load 128 images for training and testing purposes. Also shuffle makes sure the data is mixed and is not in sequence."
   ]
  },
  {
   "cell_type": "code",
   "execution_count": null,
   "id": "80e246fe",
   "metadata": {},
   "outputs": [],
   "source": [
    "trainloader = torch.utils.data.DataLoader(trainset,\n",
    "                                           batch_size = 128,\n",
    "                                           shuffle = True,\n",
    "                                           num_workers = 0)\n",
    "\n",
    "testloader = torch.utils.data.DataLoader(testset,\n",
    "                                          batch_size = 128,\n",
    "                                          shuffle = False,\n",
    "                                          num_workers = 0)"
   ]
  },
  {
   "cell_type": "markdown",
   "id": "27879d3b",
   "metadata": {},
   "source": [
    "### Print the batch"
   ]
  },
  {
   "cell_type": "code",
   "execution_count": null,
   "id": "322bca86",
   "metadata": {},
   "outputs": [],
   "source": [
    "dataiter=iter(trainloader)\n",
    "images,labels=next(dataiter)\n",
    "print(images.shape)\n",
    "print(labels.shape)"
   ]
  },
  {
   "cell_type": "markdown",
   "id": "b5331071",
   "metadata": {},
   "source": [
    "### To display a part of the MNIST dataset"
   ]
  },
  {
   "cell_type": "code",
   "execution_count": null,
   "id": "5bc65ae0",
   "metadata": {},
   "outputs": [],
   "source": [
    "def imshow(img):\n",
    "    img = img / 2 + 0.5 \n",
    "    npimg = img.numpy()\n",
    "    plt.imshow(np.transpose(npimg, (1, 2, 0)))\n",
    "    plt.show()\n",
    "\n",
    "dataiter = iter(trainloader)\n",
    "images, labels = next(dataiter)\n",
    "\n",
    "imshow(torchvision.utils.make_grid(images))\n",
    "\n",
    "print(''.join('%2s' % labels[j].numpy() for j in range(128)))"
   ]
  },
  {
   "cell_type": "markdown",
   "id": "aeac3294",
   "metadata": {},
   "source": [
    "### Building our model"
   ]
  },
  {
   "cell_type": "code",
   "execution_count": null,
   "id": "2479ce45",
   "metadata": {},
   "outputs": [],
   "source": [
    "nn.Conv2d(in_channels=1,\n",
    "          out_channels=32,\n",
    "          kernel_size=3,\n",
    "          stride=1, \n",
    "          padding=1)"
   ]
  },
  {
   "cell_type": "code",
   "execution_count": null,
   "id": "93ce6474",
   "metadata": {},
   "outputs": [],
   "source": [
    "class Net(nn.Module):\n",
    "    def __init__(self):\n",
    "        super(Net, self).__init__()\n",
    "        self.conv1 = nn.Conv2d(1, 32, 3)\n",
    "        self.conv2 = nn.Conv2d(32, 64, 3)\n",
    "        self.pool = nn.MaxPool2d(2, 2)\n",
    "        self.fc1 = nn.Linear(64 * 12 * 12, 128)\n",
    "        self.fc2 = nn.Linear(128, 10)\n",
    "\n",
    "    def forward(self, x):\n",
    "        \n",
    "        x = F.relu(self.conv1(x))\n",
    "        x = self.pool(F.relu(self.conv2(x)))\n",
    "        x = x.view(-1, 64 * 12 * 12) # Flatten\n",
    "        x = F.relu(self.fc1(x))\n",
    "        x = self.fc2(x)\n",
    "        return x\n",
    "\n",
    "\n",
    "net = Net()\n",
    "net.to(device)"
   ]
  },
  {
   "cell_type": "markdown",
   "id": "003129f6",
   "metadata": {},
   "source": [
    "### Defining a Loss Function and Optimizer"
   ]
  },
  {
   "cell_type": "code",
   "execution_count": null,
   "id": "1deb7e96",
   "metadata": {},
   "outputs": [],
   "source": [
    "criterion = nn.CrossEntropyLoss()\n",
    "optimizer = optim.SGD(net.parameters(), lr=0.001, momentum=0.9)"
   ]
  },
  {
   "cell_type": "markdown",
   "id": "63e111dd",
   "metadata": {},
   "source": [
    "### Training the model"
   ]
  },
  {
   "cell_type": "code",
   "execution_count": null,
   "id": "ec1ce061",
   "metadata": {},
   "outputs": [],
   "source": [
    "epochs = 10\n",
    "epoch_log = []\n",
    "loss_log = []\n",
    "accuracy_log = []\n",
    "for epoch in range(epochs):  \n",
    "    print(f'Starting Epoch: {epoch+1}...')\n",
    "    running_loss = 0.0\n",
    "    for i, data in enumerate(trainloader, 0):\n",
    "       \n",
    "        inputs, labels = data\n",
    "        inputs = inputs.to(device)\n",
    "        labels = labels.to(device)\n",
    "        optimizer.zero_grad()\n",
    "\n",
    "        outputs = net(inputs)\n",
    "        loss = criterion(outputs, labels) \n",
    "        loss.backward() \n",
    "        optimizer.step()\n",
    "        \n",
    "        running_loss += loss.item()\n",
    "        if i % 50 == 49:   \n",
    "            correct = 0 \n",
    "            total = 0 \n",
    "            with torch.no_grad():\n",
    "                for data in testloader:\n",
    "                    images, labels = data\n",
    "                    images = images.to(device)\n",
    "                    labels = labels.to(device)\n",
    "                    outputs = net(images)\n",
    "                    _, predicted = torch.max(outputs.data, dim = 1)\n",
    "                    total += labels.size(0)\n",
    "                    correct += (predicted == labels).sum().item()\n",
    "\n",
    "                accuracy = 100 * correct / total\n",
    "                epoch_num = epoch + 1\n",
    "                actual_loss = running_loss / 50\n",
    "                print(f'Epoch: {epoch_num}, Mini-Batches Completed: {(i+1)}, Loss: {actual_loss:.3f}, Test Accuracy = {accuracy:.3f}%')\n",
    "                running_loss = 0.0\n",
    "\n",
    "   \n",
    "    epoch_log.append(epoch_num)\n",
    "    loss_log.append(actual_loss)\n",
    "    accuracy_log.append(accuracy)\n",
    "\n",
    "print('Finished Training')"
   ]
  },
  {
   "cell_type": "markdown",
   "id": "f5b6bb88",
   "metadata": {},
   "source": [
    "### Saving the weights file of the trained model"
   ]
  },
  {
   "cell_type": "code",
   "execution_count": null,
   "id": "21dcd52d",
   "metadata": {},
   "outputs": [],
   "source": [
    "PATH = ' D:\\\\mnist_cnn_net.pth'\n",
    "torch.save(net.state_dict(), PATH)"
   ]
  },
  {
   "cell_type": "markdown",
   "id": "7c320306",
   "metadata": {},
   "source": [
    "### Reload the saved model"
   ]
  },
  {
   "cell_type": "code",
   "execution_count": null,
   "id": "cf59a508",
   "metadata": {},
   "outputs": [],
   "source": [
    "net = Net()\n",
    "net.to(device)\n",
    "net.load_state_dict(torch.load(PATH))"
   ]
  },
  {
   "cell_type": "markdown",
   "id": "e4fd22e5",
   "metadata": {},
   "source": [
    "### Testing the model and getting the predictions"
   ]
  },
  {
   "cell_type": "code",
   "execution_count": null,
   "id": "15800adc",
   "metadata": {},
   "outputs": [],
   "source": [
    "test_iter = iter(testloader)\n",
    "images, labels = test_iter.next()\n",
    "images = images.to(device)\n",
    "labels = labels.to(device)\n",
    "outputs = net(images)\n",
    "_, predicted = torch.max(outputs, 1)\n",
    "\n",
    "print('Predicted: ', ''.join('%2s' % predicted[j].cpu().numpy() for j in range(128)))"
   ]
  },
  {
   "cell_type": "markdown",
   "id": "072ca85c",
   "metadata": {},
   "source": [
    "### Accuracy of the model"
   ]
  },
  {
   "cell_type": "code",
   "execution_count": null,
   "id": "d5c4176b",
   "metadata": {},
   "outputs": [],
   "source": [
    "correct = 0 \n",
    "total = 0\n",
    "with torch.no_grad():\n",
    "    for data in testloader:\n",
    "        images, labels = data\n",
    "        images = images.to(device)\n",
    "        labels = labels.to(device)\n",
    "        outputs = net(images)\n",
    "        _, predicted = torch.max(outputs.data, 1)\n",
    "        total += labels.size(0)\n",
    "        correct += (predicted == labels).sum().item()\n",
    "\n",
    "accuracy = 100 * correct / total\n",
    "print(f'Accuracy of the network on the 10000 test images: {accuracy:.3}%')"
   ]
  },
  {
   "cell_type": "markdown",
   "id": "b9a79b3e",
   "metadata": {},
   "source": [
    "### Plotting the Training Loss"
   ]
  },
  {
   "cell_type": "code",
   "execution_count": null,
   "id": "2ea9bdbd",
   "metadata": {},
   "outputs": [],
   "source": [
    "epoch_log = []\n",
    "loss_log = []\n",
    "accuracy_log = []\n",
    "\n",
    "fig, ax1 = plt.subplots()\n",
    "plt.title(\"Accuracy & Loss vs Epoch\")\n",
    "plt.xticks(rotation=45)\n",
    "\n",
    "ax2 = ax1.twinx()\n",
    "ax1.plot(epoch_log, loss_log, 'g-')\n",
    "ax2.plot(epoch_log, accuracy_log, 'b-')\n",
    "\n",
    "ax1.set_xlabel('Epochs')\n",
    "ax1.set_ylabel('Loss', color='g')\n",
    "ax2.set_ylabel('Test Accuracy', color='b')\n",
    "plt.show()"
   ]
  }
 ],
 "metadata": {
  "kernelspec": {
   "display_name": "Python 3 (ipykernel)",
   "language": "python",
   "name": "python3"
  },
  "language_info": {
   "codemirror_mode": {
    "name": "ipython",
    "version": 3
   },
   "file_extension": ".py",
   "mimetype": "text/x-python",
   "name": "python",
   "nbconvert_exporter": "python",
   "pygments_lexer": "ipython3",
   "version": "3.9.16"
  }
 },
 "nbformat": 4,
 "nbformat_minor": 5
}
